{
 "metadata": {
  "name": "",
  "signature": "sha256:2f1bc7a458cf0f83441c11c1df29eaea1ea6323fad663b758544326a0b051fa1"
 },
 "nbformat": 3,
 "nbformat_minor": 0,
 "worksheets": [
  {
   "cells": [
    {
     "cell_type": "heading",
     "level": 1,
     "metadata": {},
     "source": [
      "Messprotokoll - 13 Magnetfeld von Spulen"
     ]
    },
    {
     "cell_type": "heading",
     "level": 2,
     "metadata": {},
     "source": [
      "Felix Kurz und Michael Lohmann, 5.9.2014"
     ]
    },
    {
     "cell_type": "code",
     "collapsed": false,
     "input": [
      "import maabara as ma\n",
      "from numpy import array\n",
      "import math"
     ],
     "language": "python",
     "metadata": {},
     "outputs": [],
     "prompt_number": 2
    },
    {
     "cell_type": "heading",
     "level": 3,
     "metadata": {},
     "source": [
      "Induktion"
     ]
    },
    {
     "cell_type": "code",
     "collapsed": false,
     "input": [
      "IntegEichen=[[50,[78,83,83]],[100,[160,162,164]],[150,[243,242,240]],[200,[321,323,323]],[250,[405,404,401]],\\\n",
      "       [300,[481,483,480]],[350,[560,563,562]],[400,[640,642,642]],[450,[720,721,721]],[500,[802,800,802]]]\n",
      "       #[ms,Ausg d Integ]\n",
      "\n",
      "IndSpule=[[0,54],[2,79],[4,118],[6,161],[8,196],[10,225],[12,240],[14,252],[16,263],[18,267],[20,267],[22,271],\\\n",
      "        [24,273],[26,271],[28,272],[30,270],[32,271],[34,268],[36,266],[38,262]]#Entf. vom Rand,  Ausg. Integ\n",
      "\n",
      "for i in range(len(IntegEichen)):\n",
      "    mw = ma.data.student_t(IntegEichen[i][1])\n",
      "    print IntegEichen[i][0], mw[0], mw[1]"
     ],
     "language": "python",
     "metadata": {},
     "outputs": [
      {
       "output_type": "stream",
       "stream": "stdout",
       "text": [
        "50 81.3333333333 2.2\n",
        "100 162.0 1.52420471066\n",
        "150 241.666666667 1.16413057687\n",
        "200 322.333333333 0.88\n",
        "250 403.333333333 1.5864425612\n",
        "300 481.333333333 1.16413057687\n",
        "350 561.666666667 1.16413057687\n",
        "400 641.333333333 0.88\n",
        "450 720.666666667 0.44\n",
        "500 801.333333333 0.88\n"
       ]
      }
     ],
     "prompt_number": 3
    },
    {
     "cell_type": "heading",
     "level": 3,
     "metadata": {},
     "source": [
      "Hall-Sonde"
     ]
    },
    {
     "cell_type": "code",
     "collapsed": false,
     "input": [
      "LangDaten=[825,0.5,12.95,44.9]#Windungszahl,Drahtdurchmesser [mm],Durchmesser[cm],L\u00e4nge[cm]\n",
      "DickDaten=[499,0.5,20.0,27.0]#Windungszahl,Drahtdurchmesser [mm],Durchmesser[cm],L\u00e4nge[cm]\n",
      "HelmDaten=[577,0.5,10.0,5]#Windungszahl einzeln,Drahtdurchmesser?,L\u00e4nge zwischen Spulen (Spulenl\u00e4nge 1.5cm)\n",
      "IndDaten=[369,0.5,5.9,6.5]#Windungszahl,Drahtdurchmesser [mm],Durchmesser[cm],L\u00e4nge[cm]\n",
      "\n",
      "HallLang=[[0,13.5],[1,13.4],[2,13.4],[3,13.5],[4,13.3],[5,13.3],[6,13.3],[7,13.2],[8,13.2],[9,13.1],[10,13.0],\\\n",
      "      [11,12.9],[12,12.7],[13,12.5],[14,12.3],[15,11.9],[16,11.5],[17,11.0],[18,10.4],[19,9.6],[20,8.7],[21,7.7],\\\n",
      "      [22,6.7],[23,5.6],[24,4.9],[25,4.1],[26,3.6],[27,3.1],[28,2.7],[29,2.4],[30,2.2],[31,2.0],[32,1.7],[33,1.7],\\\n",
      "      [34,1.5],[35,1.5],[36,1.4],[37,1.4],[38,1.3],[39,1.2],[40,1.2],[41,1.1],[42,1.1],[43,1.1],[44,1.1],[45,0.9],\\\n",
      "      [46,1.0],[47,1.0],[48,1.0],[49,0.9],[50,0.9]]#Entfernung vom Mittelpunkt der Spule [cm],Mag.Feld [G]\n",
      "HallDick=[[0,11.5],[1,11.3],[2,11.2],[3,11.1],[4,10.9],[5,10.6],[6,10.3],[7,9.9],[8,9.5],[9,9.0],[10,8.4],[11,7.7],\\\n",
      "      [12,7.2],[13,6.6],[14,6.0],[15,5.5],[16,4.9],[17,4.45],[18,3.9],[19,3.6],[20,3.2],[21,2.9],[22,2.7],[23,2.45],\\\n",
      "      [24,2.25],[25,2.1],[26,2.0],[27,1.8],[28,1.7],[29,1.65],[30,1.6],[31,1.5],[32,1.4],[33,1.4],[34,1.35],\\\n",
      "      [35,1.3],[36,1.2]]#Entfernung vom Mittelpunkt der Spule [cm],Mag.Feld [G]\n",
      "\n",
      "HallHelm=[[-10,8.45],[-9,10.2],[-8,12.5],[-7,15.5],[-6,18.1],[-5,20.35],[-4,21.65],[-3,22.4],[-2,22.4],[-1,22.4],\\\n",
      "          [0,22.35],[1,21.8],[2,20.55],[3,18.3],[4,15.7],[5,13.0],[6,10.5],[7,8.4],[8,6.6],[9,5.4],[10,4.5],[11,3.8],\\\n",
      "          [12,3.2],[13,2.7],[14,2.4],[15,2.1],[16,1.9],[17,1.6],[18,1.5],[19,1.4],[20,1.2],[21,1.1],[22,1.1],[23,1.0]]\n",
      "          #Entfernung vom Mittelpunkt der Spule [cm],Mag.Feld [G]"
     ],
     "language": "python",
     "metadata": {},
     "outputs": [],
     "prompt_number": 4
    },
    {
     "cell_type": "heading",
     "level": 3,
     "metadata": {},
     "source": [
      "Fehler:"
     ]
    },
    {
     "cell_type": "code",
     "collapsed": false,
     "input": [
      "#Sigma Entfernungen: \\pm 1mm\n",
      "#Sigma Integrator \\pm 2\n",
      "\n",
      "#Systematischer Fehler der Mitte der Spule von ca. 0.5cm m\u00f6glich\n",
      "#Sigma Hallsonde \\pm 0.1 Gauss"
     ],
     "language": "python",
     "metadata": {},
     "outputs": [],
     "prompt_number": 5
    },
    {
     "cell_type": "code",
     "collapsed": false,
     "input": [
      "Hall=[HallLang,HallDick,HallHelm]\n",
      "HallName=[\"HallLang.dat\",\"HallDick.dat\",\"HallHelm.dat\"]\n",
      "for k in range(len(Hall)):\n",
      "    fobj = open(HallName[k], \"w\")\n",
      "    for i in range(len(Hall[k])):\n",
      "        fobj.write(str(Hall[k][i][0]) + \" \" + str(Hall[k][i][1]) + \" \" + \"0.1\" + \"\\n\")\n",
      "    fobj.close()"
     ],
     "language": "python",
     "metadata": {},
     "outputs": [],
     "prompt_number": 6
    },
    {
     "cell_type": "code",
     "collapsed": false,
     "input": [
      "a = 0.001247\n",
      "R_i = 1e3\n",
      "R_Int\n",
      "R_Para\n",
      "A = math.pi*((IndDaten[2]/100)**2)/4\n",
      "n = IndDaten[0]\n",
      "k = a*R_i/(n*A)/10\n",
      "print k\n",
      "fobj = open(\"IndSpule.dat\", \"w\")\n",
      "for i in range(len(IndSpule)):\n",
      "    fobj.write(str(IndSpule[i][0]) + \" \" + str(IndSpule[i][1]*k) + \" \" + str(2*k) + \"\\n\")\n",
      "fobj.close()\n"
     ],
     "language": "python",
     "metadata": {},
     "outputs": [
      {
       "output_type": "stream",
       "stream": "stdout",
       "text": [
        "0.12360788705\n"
       ]
      }
     ],
     "prompt_number": 7
    },
    {
     "cell_type": "code",
     "collapsed": false,
     "input": [],
     "language": "python",
     "metadata": {},
     "outputs": [],
     "prompt_number": 7
    }
   ],
   "metadata": {}
  }
 ]
}